{
 "cells": [
  {
   "cell_type": "code",
   "execution_count": 1,
   "id": "6726fa42-f04a-4f22-a9ea-70ece2a75892",
   "metadata": {},
   "outputs": [],
   "source": [
    "import pandas as pd"
   ]
  },
  {
   "cell_type": "code",
   "execution_count": 10,
   "id": "ce4e46bb-49c9-42bf-86d6-ec9a59ea1a18",
   "metadata": {},
   "outputs": [],
   "source": [
    "from sklearn.preprocessing import MinMaxScaler\n",
    "from sklearn.preprocessing import StandardScaler"
   ]
  },
  {
   "cell_type": "code",
   "execution_count": 11,
   "id": "f7f1146c-d7df-4305-a5c8-d71a6e987383",
   "metadata": {},
   "outputs": [],
   "source": [
    "data = pd.read_csv('C:\\\\Users\\\\ITEL\\\\Documents\\\\XL\\\\data_random.csv', sep=';')"
   ]
  },
  {
   "cell_type": "code",
   "execution_count": 18,
   "id": "93525d90-9aae-4582-8d91-855c300f36b6",
   "metadata": {},
   "outputs": [
    {
     "name": "stdout",
     "output_type": "stream",
     "text": [
      "   Umur  Umur_normalized\n",
      "0  48.0         0.731707\n",
      "1  48.0         0.731707\n",
      "2  28.0         0.243902\n",
      "3  32.0         0.341463\n",
      "4  20.0         0.048780\n"
     ]
    }
   ],
   "source": [
    "# normalisasi umur\n",
    "\n",
    "scaler = MinMaxScaler()\n",
    "data['Umur_normalized'] = scaler.fit_transform(data[['Umur']])\n",
    "print(data[['Umur', 'Umur_normalized']].head())"
   ]
  },
  {
   "cell_type": "code",
   "execution_count": 19,
   "id": "03f67cf6-2927-43a6-a719-6ef394e896e6",
   "metadata": {},
   "outputs": [
    {
     "name": "stdout",
     "output_type": "stream",
     "text": [
      "   Umur  Umur_standardized\n",
      "0  48.0           0.734683\n",
      "1  48.0           0.734683\n",
      "2  28.0          -0.908230\n",
      "3  32.0          -0.579648\n",
      "4  20.0          -1.565396\n"
     ]
    }
   ],
   "source": [
    "# standarisasi umur\n",
    "\n",
    "standard_scaler = StandardScaler()\n",
    "data['Umur_standardized'] = standard_scaler.fit_transform(data[['Umur']])\n",
    "print(data[['Umur', 'Umur_standardized']].head())"
   ]
  },
  {
   "cell_type": "code",
   "execution_count": 21,
   "id": "8c88499c-8ce1-4679-9942-a23b3c43334d",
   "metadata": {},
   "outputs": [
    {
     "name": "stdout",
     "output_type": "stream",
     "text": [
      "   Umur  Umur_normalized  Umur_standardized\n",
      "0  48.0         0.731707           0.734683\n",
      "1  48.0         0.731707           0.734683\n",
      "2  28.0         0.243902          -0.908230\n",
      "3  32.0         0.341463          -0.579648\n",
      "4  20.0         0.048780          -1.565396\n"
     ]
    }
   ],
   "source": [
    "# Normalisasi dan Standarisasi bersamaan\n",
    "data['Umur_normalized'] = scaler.fit_transform(data[['Umur']])\n",
    "data['Umur_standardized'] = standard_scaler.fit_transform(data[['Umur']])\n",
    "print(data[['Umur', 'Umur_normalized', 'Umur_standardized']].head())"
   ]
  },
  {
   "cell_type": "code",
   "execution_count": null,
   "id": "a125da7b-2589-4c6c-b223-cd01e58c609f",
   "metadata": {},
   "outputs": [],
   "source": []
  }
 ],
 "metadata": {
  "kernelspec": {
   "display_name": "Python 3 (ipykernel)",
   "language": "python",
   "name": "python3"
  },
  "language_info": {
   "codemirror_mode": {
    "name": "ipython",
    "version": 3
   },
   "file_extension": ".py",
   "mimetype": "text/x-python",
   "name": "python",
   "nbconvert_exporter": "python",
   "pygments_lexer": "ipython3",
   "version": "3.10.0"
  }
 },
 "nbformat": 4,
 "nbformat_minor": 5
}
