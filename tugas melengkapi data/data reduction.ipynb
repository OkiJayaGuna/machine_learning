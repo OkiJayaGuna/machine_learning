{
 "cells": [
  {
   "cell_type": "code",
   "execution_count": 2,
   "id": "e8359108-3dc5-4471-a86d-316b405809f5",
   "metadata": {},
   "outputs": [],
   "source": [
    "import pandas as pd"
   ]
  },
  {
   "cell_type": "code",
   "execution_count": 8,
   "id": "6ee4c48e-78df-4512-8e47-c0b11a516280",
   "metadata": {},
   "outputs": [],
   "source": [
    "from sklearn.preprocessing import MinMaxScaler\n",
    "from sklearn.preprocessing import StandardScaler\n",
    "from sklearn.feature_selection import VarianceThreshold"
   ]
  },
  {
   "cell_type": "code",
   "execution_count": 9,
   "id": "3a846e0b-0fbb-40a9-902c-0ad20a6868b7",
   "metadata": {},
   "outputs": [],
   "source": [
    "data = pd.read_csv('C:\\\\Users\\\\ITEL\\\\Documents\\\\XL\\\\data_random.csv', sep=';')"
   ]
  },
  {
   "cell_type": "code",
   "execution_count": 10,
   "id": "d46e80d3-597c-47a1-a0d9-84b93126a369",
   "metadata": {},
   "outputs": [
    {
     "name": "stdout",
     "output_type": "stream",
     "text": [
      "   Umur             Kota\n",
      "0  48.0      Port Kelsey\n",
      "1  48.0  Veronicachester\n",
      "2  28.0    Amandaborough\n",
      "3  32.0     Port Jessica\n",
      "4  20.0              NaN\n"
     ]
    }
   ],
   "source": [
    "# Menghapus kolom 'Nama'\n",
    "data_reduced = data.drop(columns=['Nama'])\n",
    "print(data_reduced.head())"
   ]
  },
  {
   "cell_type": "code",
   "execution_count": 11,
   "id": "29b876b9-8515-4f7f-95aa-73671523c4a2",
   "metadata": {},
   "outputs": [
    {
     "name": "stdout",
     "output_type": "stream",
     "text": [
      "                Nama  Umur           Kota\n",
      "0    Christopher Lam  48.0    Port Kelsey\n",
      "2  Joseph Valdez Jr.  28.0  Amandaborough\n",
      "3       Pamela Davis  32.0   Port Jessica\n",
      "5     Raymond Miller  29.0    Justinville\n",
      "6       Steven White  39.0       New Toni\n"
     ]
    }
   ],
   "source": [
    "# Menghapus baris yang memiliki nilai kosong\n",
    "data_reduced = data.dropna()\n",
    "print(data_reduced.head())"
   ]
  },
  {
   "cell_type": "code",
   "execution_count": 14,
   "id": "c26262bc-a0aa-40d6-95a1-bfa8ab3f0c3b",
   "metadata": {},
   "outputs": [
    {
     "name": "stdout",
     "output_type": "stream",
     "text": [
      "   Umur\n",
      "0  48.0\n",
      "1  48.0\n",
      "2  28.0\n",
      "3  32.0\n",
      "4  20.0\n"
     ]
    }
   ],
   "source": [
    "# Menghapus kolom dengan variance rendah\n",
    "data_numeric = data.select_dtypes(include=['float64', 'int64'])\n",
    "\n",
    "selector = VarianceThreshold(threshold=0.1)  # Menghapus kolom dengan variance <= 0.1\n",
    "data_reduced = selector.fit_transform(data_numeric)\n",
    "\n",
    "data_reduced = pd.DataFrame(data_reduced, columns=data_numeric.columns[selector.get_support()])\n",
    "\n",
    "print(data_reduced.head())"
   ]
  },
  {
   "cell_type": "code",
   "execution_count": null,
   "id": "7722c6a8-f45d-4db0-9299-cc3bc50a2c56",
   "metadata": {},
   "outputs": [],
   "source": []
  }
 ],
 "metadata": {
  "kernelspec": {
   "display_name": "Python 3 (ipykernel)",
   "language": "python",
   "name": "python3"
  },
  "language_info": {
   "codemirror_mode": {
    "name": "ipython",
    "version": 3
   },
   "file_extension": ".py",
   "mimetype": "text/x-python",
   "name": "python",
   "nbconvert_exporter": "python",
   "pygments_lexer": "ipython3",
   "version": "3.10.0"
  }
 },
 "nbformat": 4,
 "nbformat_minor": 5
}
