{
 "cells": [
  {
   "cell_type": "code",
   "execution_count": 6,
   "id": "5efca56d-d579-47e5-b93d-f4269d6e3eb2",
   "metadata": {},
   "outputs": [],
   "source": [
    "import pandas as pd"
   ]
  },
  {
   "cell_type": "code",
   "execution_count": 9,
   "id": "88fe0471-1956-44a3-ace8-f404a0d10934",
   "metadata": {},
   "outputs": [],
   "source": [
    "data = pd.read_csv('C:\\\\Users\\\\ITEL\\\\Documents\\\\XL\\\\data_random.csv', sep=';')"
   ]
  },
  {
   "cell_type": "code",
   "execution_count": 10,
   "id": "75078b90-1bb0-42bc-92dc-db7d1c210099",
   "metadata": {},
   "outputs": [],
   "source": [
    "data_encoded = pd.DataFrame({\n",
    "    'Umur': [20, 25, 30],\n",
    "    'Nama': ['John', 'Alice', 'Bob']\n",
    "})"
   ]
  },
  {
   "cell_type": "code",
   "execution_count": 11,
   "id": "5bb34fdb-ea94-4d28-a225-9f77524358c5",
   "metadata": {},
   "outputs": [
    {
     "name": "stdout",
     "output_type": "stream",
     "text": [
      "   Umur   Nama\n",
      "0    20   John\n",
      "1    25  Alice\n",
      "2    30    Bob\n"
     ]
    }
   ],
   "source": [
    "print(data_encoded)  # Menampilkan isi variabel"
   ]
  },
  {
   "cell_type": "code",
   "execution_count": 12,
   "id": "e96d07b7-7569-4f5e-9cf6-e742e40678a5",
   "metadata": {},
   "outputs": [],
   "source": [
    "def fungsi():\n",
    "    global data_encoded  # Deklarasi variabel sebagai global\n",
    "    data_encoded = pd.DataFrame({\n",
    "        'Umur': [20, 25, 30],\n",
    "        'Nama': ['John', 'Alice', 'Bob']\n",
    "    })"
   ]
  },
  {
   "cell_type": "code",
   "execution_count": 13,
   "id": "23c3f76b-de7d-4499-96f4-bf6e759d8e5e",
   "metadata": {},
   "outputs": [
    {
     "ename": "NameError",
     "evalue": "name 'X_train' is not defined",
     "output_type": "error",
     "traceback": [
      "\u001b[1;31m---------------------------------------------------------------------------\u001b[0m",
      "\u001b[1;31mNameError\u001b[0m                                 Traceback (most recent call last)",
      "Cell \u001b[1;32mIn[13], line 8\u001b[0m\n\u001b[0;32m      5\u001b[0m y \u001b[38;5;241m=\u001b[39m data_encoded[\u001b[38;5;124m'\u001b[39m\u001b[38;5;124mUmur\u001b[39m\u001b[38;5;124m'\u001b[39m]  \u001b[38;5;66;03m# Target\u001b[39;00m\n\u001b[0;32m      7\u001b[0m \u001b[38;5;66;03m# Memisahkan data menjadi set pelatihan dan pengujian\u001b[39;00m\n\u001b[1;32m----> 8\u001b[0m \u001b[43mX_train\u001b[49m, X_test, y_train\n",
      "\u001b[1;31mNameError\u001b[0m: name 'X_train' is not defined"
     ]
    }
   ],
   "source": [
    "from sklearn.model_selection import train_test_split\n",
    "\n",
    "# Memisahkan fitur dan target\n",
    "X = data_encoded.drop('Umur', axis=1)  # Fitur\n",
    "y = data_encoded['Umur']  # Target\n",
    "\n",
    "# Memisahkan data menjadi set pelatihan dan pengujian\n",
    "X_train, X_test, y_train"
   ]
  },
  {
   "cell_type": "code",
   "execution_count": null,
   "id": "4acb3e05-5f5a-4bee-819d-3545f7778fc4",
   "metadata": {},
   "outputs": [],
   "source": [
    "data"
   ]
  }
 ],
 "metadata": {
  "kernelspec": {
   "display_name": "Python 3 (ipykernel)",
   "language": "python",
   "name": "python3"
  },
  "language_info": {
   "codemirror_mode": {
    "name": "ipython",
    "version": 3
   },
   "file_extension": ".py",
   "mimetype": "text/x-python",
   "name": "python",
   "nbconvert_exporter": "python",
   "pygments_lexer": "ipython3",
   "version": "3.10.0"
  }
 },
 "nbformat": 4,
 "nbformat_minor": 5
}
