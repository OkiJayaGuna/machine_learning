{
 "cells": [
  {
   "cell_type": "code",
   "execution_count": 117,
   "id": "50ea07f3-4d8b-4fa1-99bc-66af7b0e20f6",
   "metadata": {},
   "outputs": [],
   "source": [
    "import pandas as pd"
   ]
  },
  {
   "cell_type": "code",
   "execution_count": 191,
   "id": "84db097e-fd8f-4fe3-b835-9e8be45bbae6",
   "metadata": {},
   "outputs": [],
   "source": [
    "data = pd.read_csv('C:\\\\Users\\\\ITEL\\\\Documents\\\\XL\\\\data_random.csv', sep=';')"
   ]
  },
  {
   "cell_type": "code",
   "execution_count": 192,
   "id": "05034013-9a4a-4749-bfee-f7e0da1ddc43",
   "metadata": {},
   "outputs": [],
   "source": [
    "data_original = data.copy()"
   ]
  },
  {
   "cell_type": "code",
   "execution_count": 193,
   "id": "8c900f74-33a3-419c-ba19-5cfde44d1d3f",
   "metadata": {},
   "outputs": [
    {
     "name": "stdout",
     "output_type": "stream",
     "text": [
      "Index(['Nama', 'Umur', 'Kota'], dtype='object')\n"
     ]
    }
   ],
   "source": [
    "print(data.columns)"
   ]
  },
  {
   "cell_type": "code",
   "execution_count": 194,
   "id": "cbcaf834-fc35-443e-954c-e6c7ce122426",
   "metadata": {},
   "outputs": [],
   "source": [
    "# mengganti nama kolom\n",
    "\n",
    "data.rename(columns={'Nama': 'Nama Lengkap'}, inplace=True)"
   ]
  },
  {
   "cell_type": "code",
   "execution_count": 195,
   "id": "1c27008b-a509-492e-82de-a5e59b7722e9",
   "metadata": {},
   "outputs": [
    {
     "data": {
      "text/html": [
       "<div>\n",
       "<style scoped>\n",
       "    .dataframe tbody tr th:only-of-type {\n",
       "        vertical-align: middle;\n",
       "    }\n",
       "\n",
       "    .dataframe tbody tr th {\n",
       "        vertical-align: top;\n",
       "    }\n",
       "\n",
       "    .dataframe thead th {\n",
       "        text-align: right;\n",
       "    }\n",
       "</style>\n",
       "<table border=\"1\" class=\"dataframe\">\n",
       "  <thead>\n",
       "    <tr style=\"text-align: right;\">\n",
       "      <th></th>\n",
       "      <th>Nama Lengkap</th>\n",
       "      <th>Umur</th>\n",
       "      <th>Kota</th>\n",
       "    </tr>\n",
       "  </thead>\n",
       "  <tbody>\n",
       "    <tr>\n",
       "      <th>0</th>\n",
       "      <td>Christopher Lam</td>\n",
       "      <td>48.0</td>\n",
       "      <td>Port Kelsey</td>\n",
       "    </tr>\n",
       "    <tr>\n",
       "      <th>1</th>\n",
       "      <td>NaN</td>\n",
       "      <td>48.0</td>\n",
       "      <td>Veronicachester</td>\n",
       "    </tr>\n",
       "    <tr>\n",
       "      <th>2</th>\n",
       "      <td>Joseph Valdez Jr.</td>\n",
       "      <td>28.0</td>\n",
       "      <td>Amandaborough</td>\n",
       "    </tr>\n",
       "    <tr>\n",
       "      <th>3</th>\n",
       "      <td>Pamela Davis</td>\n",
       "      <td>32.0</td>\n",
       "      <td>Port Jessica</td>\n",
       "    </tr>\n",
       "    <tr>\n",
       "      <th>4</th>\n",
       "      <td>Kenneth Rodriguez</td>\n",
       "      <td>20.0</td>\n",
       "      <td>NaN</td>\n",
       "    </tr>\n",
       "    <tr>\n",
       "      <th>...</th>\n",
       "      <td>...</td>\n",
       "      <td>...</td>\n",
       "      <td>...</td>\n",
       "    </tr>\n",
       "    <tr>\n",
       "      <th>145</th>\n",
       "      <td>Paul Boyer</td>\n",
       "      <td>45.0</td>\n",
       "      <td>South Barbaraberg</td>\n",
       "    </tr>\n",
       "    <tr>\n",
       "      <th>146</th>\n",
       "      <td>NaN</td>\n",
       "      <td>31.0</td>\n",
       "      <td>Lake Michaelshire</td>\n",
       "    </tr>\n",
       "    <tr>\n",
       "      <th>147</th>\n",
       "      <td>Elizabeth Suarez</td>\n",
       "      <td>38.0</td>\n",
       "      <td>Lake Jay</td>\n",
       "    </tr>\n",
       "    <tr>\n",
       "      <th>148</th>\n",
       "      <td>Lisa Wilson</td>\n",
       "      <td>31.0</td>\n",
       "      <td>Caseyport</td>\n",
       "    </tr>\n",
       "    <tr>\n",
       "      <th>149</th>\n",
       "      <td>Kimberly Vega</td>\n",
       "      <td>NaN</td>\n",
       "      <td>Lake Natashastad</td>\n",
       "    </tr>\n",
       "  </tbody>\n",
       "</table>\n",
       "<p>150 rows × 3 columns</p>\n",
       "</div>"
      ],
      "text/plain": [
       "          Nama Lengkap  Umur               Kota\n",
       "0      Christopher Lam  48.0        Port Kelsey\n",
       "1                  NaN  48.0    Veronicachester\n",
       "2    Joseph Valdez Jr.  28.0      Amandaborough\n",
       "3         Pamela Davis  32.0       Port Jessica\n",
       "4    Kenneth Rodriguez  20.0                NaN\n",
       "..                 ...   ...                ...\n",
       "145         Paul Boyer  45.0  South Barbaraberg\n",
       "146                NaN  31.0  Lake Michaelshire\n",
       "147   Elizabeth Suarez  38.0           Lake Jay\n",
       "148        Lisa Wilson  31.0          Caseyport\n",
       "149      Kimberly Vega   NaN   Lake Natashastad\n",
       "\n",
       "[150 rows x 3 columns]"
      ]
     },
     "execution_count": 195,
     "metadata": {},
     "output_type": "execute_result"
    }
   ],
   "source": [
    "data"
   ]
  },
  {
   "cell_type": "code",
   "execution_count": 196,
   "id": "c1363e87-f097-408a-b529-5ce0f752bf4e",
   "metadata": {},
   "outputs": [],
   "source": [
    "# menghapus kolom\n",
    "\n",
    "data.drop(columns=['Kota'], inplace=True)"
   ]
  },
  {
   "cell_type": "code",
   "execution_count": 197,
   "id": "091fff01-728b-43c6-a7e6-33846a28cf85",
   "metadata": {},
   "outputs": [
    {
     "name": "stdout",
     "output_type": "stream",
     "text": [
      "          Nama Lengkap  Umur\n",
      "0      Christopher Lam  48.0\n",
      "1                  NaN  48.0\n",
      "2    Joseph Valdez Jr.  28.0\n",
      "3         Pamela Davis  32.0\n",
      "4    Kenneth Rodriguez  20.0\n",
      "..                 ...   ...\n",
      "145         Paul Boyer  45.0\n",
      "146                NaN  31.0\n",
      "147   Elizabeth Suarez  38.0\n",
      "148        Lisa Wilson  31.0\n",
      "149      Kimberly Vega   NaN\n",
      "\n",
      "[150 rows x 2 columns]\n"
     ]
    }
   ],
   "source": [
    "print(data)"
   ]
  },
  {
   "cell_type": "code",
   "execution_count": 202,
   "id": "8ea9b319-f8fb-4c47-a54c-15f838fc9adc",
   "metadata": {},
   "outputs": [],
   "source": [
    "# Menghapus baris yang memiliki nilai hilang\n",
    "data.dropna(inplace=True)"
   ]
  },
  {
   "cell_type": "code",
   "execution_count": 203,
   "id": "f79397c1-395e-4389-a4d0-fcec75103ffe",
   "metadata": {},
   "outputs": [
    {
     "data": {
      "text/html": [
       "<div>\n",
       "<style scoped>\n",
       "    .dataframe tbody tr th:only-of-type {\n",
       "        vertical-align: middle;\n",
       "    }\n",
       "\n",
       "    .dataframe tbody tr th {\n",
       "        vertical-align: top;\n",
       "    }\n",
       "\n",
       "    .dataframe thead th {\n",
       "        text-align: right;\n",
       "    }\n",
       "</style>\n",
       "<table border=\"1\" class=\"dataframe\">\n",
       "  <thead>\n",
       "    <tr style=\"text-align: right;\">\n",
       "      <th></th>\n",
       "      <th>Nama</th>\n",
       "      <th>Umur</th>\n",
       "      <th>Kota</th>\n",
       "    </tr>\n",
       "  </thead>\n",
       "  <tbody>\n",
       "    <tr>\n",
       "      <th>0</th>\n",
       "      <td>Christopher Lam</td>\n",
       "      <td>48.0</td>\n",
       "      <td>Port Kelsey</td>\n",
       "    </tr>\n",
       "    <tr>\n",
       "      <th>2</th>\n",
       "      <td>Joseph Valdez Jr.</td>\n",
       "      <td>28.0</td>\n",
       "      <td>Amandaborough</td>\n",
       "    </tr>\n",
       "    <tr>\n",
       "      <th>3</th>\n",
       "      <td>Pamela Davis</td>\n",
       "      <td>32.0</td>\n",
       "      <td>Port Jessica</td>\n",
       "    </tr>\n",
       "    <tr>\n",
       "      <th>5</th>\n",
       "      <td>Raymond Miller</td>\n",
       "      <td>29.0</td>\n",
       "      <td>Justinville</td>\n",
       "    </tr>\n",
       "    <tr>\n",
       "      <th>6</th>\n",
       "      <td>Steven White</td>\n",
       "      <td>39.0</td>\n",
       "      <td>New Toni</td>\n",
       "    </tr>\n",
       "    <tr>\n",
       "      <th>...</th>\n",
       "      <td>...</td>\n",
       "      <td>...</td>\n",
       "      <td>...</td>\n",
       "    </tr>\n",
       "    <tr>\n",
       "      <th>143</th>\n",
       "      <td>Meredith Mendez</td>\n",
       "      <td>53.0</td>\n",
       "      <td>Adrianstad</td>\n",
       "    </tr>\n",
       "    <tr>\n",
       "      <th>144</th>\n",
       "      <td>Jill Hoffman</td>\n",
       "      <td>35.0</td>\n",
       "      <td>West Tommymouth</td>\n",
       "    </tr>\n",
       "    <tr>\n",
       "      <th>145</th>\n",
       "      <td>Paul Boyer</td>\n",
       "      <td>45.0</td>\n",
       "      <td>South Barbaraberg</td>\n",
       "    </tr>\n",
       "    <tr>\n",
       "      <th>147</th>\n",
       "      <td>Elizabeth Suarez</td>\n",
       "      <td>38.0</td>\n",
       "      <td>Lake Jay</td>\n",
       "    </tr>\n",
       "    <tr>\n",
       "      <th>148</th>\n",
       "      <td>Lisa Wilson</td>\n",
       "      <td>31.0</td>\n",
       "      <td>Caseyport</td>\n",
       "    </tr>\n",
       "  </tbody>\n",
       "</table>\n",
       "<p>125 rows × 3 columns</p>\n",
       "</div>"
      ],
      "text/plain": [
       "                  Nama  Umur               Kota\n",
       "0      Christopher Lam  48.0        Port Kelsey\n",
       "2    Joseph Valdez Jr.  28.0      Amandaborough\n",
       "3         Pamela Davis  32.0       Port Jessica\n",
       "5       Raymond Miller  29.0        Justinville\n",
       "6         Steven White  39.0           New Toni\n",
       "..                 ...   ...                ...\n",
       "143    Meredith Mendez  53.0         Adrianstad\n",
       "144       Jill Hoffman  35.0    West Tommymouth\n",
       "145         Paul Boyer  45.0  South Barbaraberg\n",
       "147   Elizabeth Suarez  38.0           Lake Jay\n",
       "148        Lisa Wilson  31.0          Caseyport\n",
       "\n",
       "[125 rows x 3 columns]"
      ]
     },
     "execution_count": 203,
     "metadata": {},
     "output_type": "execute_result"
    }
   ],
   "source": [
    "data"
   ]
  },
  {
   "cell_type": "code",
   "execution_count": 208,
   "id": "16c96203-437d-4454-9e36-7f8e205e6a27",
   "metadata": {},
   "outputs": [],
   "source": [
    "# mengisi nilai hilang dengan nilai tertentu\n",
    "\n",
    "data= data_original.copy()\n",
    "data.fillna(value={'Umur': '0'}, inplace=True)"
   ]
  },
  {
   "cell_type": "code",
   "execution_count": 209,
   "id": "2d54ab43-d0a3-48de-8c88-bdb583242fdb",
   "metadata": {},
   "outputs": [
    {
     "data": {
      "text/html": [
       "<div>\n",
       "<style scoped>\n",
       "    .dataframe tbody tr th:only-of-type {\n",
       "        vertical-align: middle;\n",
       "    }\n",
       "\n",
       "    .dataframe tbody tr th {\n",
       "        vertical-align: top;\n",
       "    }\n",
       "\n",
       "    .dataframe thead th {\n",
       "        text-align: right;\n",
       "    }\n",
       "</style>\n",
       "<table border=\"1\" class=\"dataframe\">\n",
       "  <thead>\n",
       "    <tr style=\"text-align: right;\">\n",
       "      <th></th>\n",
       "      <th>Nama</th>\n",
       "      <th>Umur</th>\n",
       "      <th>Kota</th>\n",
       "    </tr>\n",
       "  </thead>\n",
       "  <tbody>\n",
       "    <tr>\n",
       "      <th>0</th>\n",
       "      <td>Christopher Lam</td>\n",
       "      <td>48.0</td>\n",
       "      <td>Port Kelsey</td>\n",
       "    </tr>\n",
       "    <tr>\n",
       "      <th>1</th>\n",
       "      <td>NaN</td>\n",
       "      <td>48.0</td>\n",
       "      <td>Veronicachester</td>\n",
       "    </tr>\n",
       "    <tr>\n",
       "      <th>2</th>\n",
       "      <td>Joseph Valdez Jr.</td>\n",
       "      <td>28.0</td>\n",
       "      <td>Amandaborough</td>\n",
       "    </tr>\n",
       "    <tr>\n",
       "      <th>3</th>\n",
       "      <td>Pamela Davis</td>\n",
       "      <td>32.0</td>\n",
       "      <td>Port Jessica</td>\n",
       "    </tr>\n",
       "    <tr>\n",
       "      <th>4</th>\n",
       "      <td>Kenneth Rodriguez</td>\n",
       "      <td>20.0</td>\n",
       "      <td>NaN</td>\n",
       "    </tr>\n",
       "    <tr>\n",
       "      <th>...</th>\n",
       "      <td>...</td>\n",
       "      <td>...</td>\n",
       "      <td>...</td>\n",
       "    </tr>\n",
       "    <tr>\n",
       "      <th>145</th>\n",
       "      <td>Paul Boyer</td>\n",
       "      <td>45.0</td>\n",
       "      <td>South Barbaraberg</td>\n",
       "    </tr>\n",
       "    <tr>\n",
       "      <th>146</th>\n",
       "      <td>NaN</td>\n",
       "      <td>31.0</td>\n",
       "      <td>Lake Michaelshire</td>\n",
       "    </tr>\n",
       "    <tr>\n",
       "      <th>147</th>\n",
       "      <td>Elizabeth Suarez</td>\n",
       "      <td>38.0</td>\n",
       "      <td>Lake Jay</td>\n",
       "    </tr>\n",
       "    <tr>\n",
       "      <th>148</th>\n",
       "      <td>Lisa Wilson</td>\n",
       "      <td>31.0</td>\n",
       "      <td>Caseyport</td>\n",
       "    </tr>\n",
       "    <tr>\n",
       "      <th>149</th>\n",
       "      <td>Kimberly Vega</td>\n",
       "      <td>0</td>\n",
       "      <td>Lake Natashastad</td>\n",
       "    </tr>\n",
       "  </tbody>\n",
       "</table>\n",
       "<p>150 rows × 3 columns</p>\n",
       "</div>"
      ],
      "text/plain": [
       "                  Nama  Umur               Kota\n",
       "0      Christopher Lam  48.0        Port Kelsey\n",
       "1                  NaN  48.0    Veronicachester\n",
       "2    Joseph Valdez Jr.  28.0      Amandaborough\n",
       "3         Pamela Davis  32.0       Port Jessica\n",
       "4    Kenneth Rodriguez  20.0                NaN\n",
       "..                 ...   ...                ...\n",
       "145         Paul Boyer  45.0  South Barbaraberg\n",
       "146                NaN  31.0  Lake Michaelshire\n",
       "147   Elizabeth Suarez  38.0           Lake Jay\n",
       "148        Lisa Wilson  31.0          Caseyport\n",
       "149      Kimberly Vega     0   Lake Natashastad\n",
       "\n",
       "[150 rows x 3 columns]"
      ]
     },
     "execution_count": 209,
     "metadata": {},
     "output_type": "execute_result"
    }
   ],
   "source": [
    "data"
   ]
  },
  {
   "cell_type": "code",
   "execution_count": 210,
   "id": "833a38b0-a459-423f-95e2-3beeec792698",
   "metadata": {},
   "outputs": [],
   "source": [
    "# Mengubah tipe data kolom\n",
    "data['Umur'] = data['Umur'].astype('float')"
   ]
  },
  {
   "cell_type": "code",
   "execution_count": 211,
   "id": "b6321a1e-131c-42ff-98d9-9be1fdac2b2b",
   "metadata": {},
   "outputs": [
    {
     "data": {
      "text/plain": [
       "Nama     object\n",
       "Umur    float64\n",
       "Kota     object\n",
       "dtype: object"
      ]
     },
     "execution_count": 211,
     "metadata": {},
     "output_type": "execute_result"
    }
   ],
   "source": [
    "data.dtypes"
   ]
  },
  {
   "cell_type": "code",
   "execution_count": 214,
   "id": "5c3b87a2-8c23-427f-b539-139cfedc9db5",
   "metadata": {},
   "outputs": [],
   "source": [
    "# Membuat kolom baru berdasarkan kolom yang ada\n",
    "data['Dewasa'] = data['Umur'] >= 30.0"
   ]
  },
  {
   "cell_type": "code",
   "execution_count": 215,
   "id": "8ed8aaa6-5deb-4398-a78c-8e5f79ef6c35",
   "metadata": {},
   "outputs": [
    {
     "name": "stdout",
     "output_type": "stream",
     "text": [
      "                  Nama  Umur               Kota  Dewasa\n",
      "0      Christopher Lam  48.0        Port Kelsey    True\n",
      "1                  NaN  48.0    Veronicachester    True\n",
      "2    Joseph Valdez Jr.  28.0      Amandaborough   False\n",
      "3         Pamela Davis  32.0       Port Jessica    True\n",
      "4    Kenneth Rodriguez  20.0                NaN   False\n",
      "..                 ...   ...                ...     ...\n",
      "145         Paul Boyer  45.0  South Barbaraberg    True\n",
      "146                NaN  31.0  Lake Michaelshire    True\n",
      "147   Elizabeth Suarez  38.0           Lake Jay    True\n",
      "148        Lisa Wilson  31.0          Caseyport    True\n",
      "149      Kimberly Vega   0.0   Lake Natashastad   False\n",
      "\n",
      "[150 rows x 4 columns]\n"
     ]
    }
   ],
   "source": [
    "print(data)"
   ]
  },
  {
   "cell_type": "code",
   "execution_count": null,
   "id": "6bc7c4f4-a455-4e9a-82e5-7e8f1d00a5e6",
   "metadata": {},
   "outputs": [],
   "source": []
  }
 ],
 "metadata": {
  "kernelspec": {
   "display_name": "Python 3 (ipykernel)",
   "language": "python",
   "name": "python3"
  },
  "language_info": {
   "codemirror_mode": {
    "name": "ipython",
    "version": 3
   },
   "file_extension": ".py",
   "mimetype": "text/x-python",
   "name": "python",
   "nbconvert_exporter": "python",
   "pygments_lexer": "ipython3",
   "version": "3.10.0"
  }
 },
 "nbformat": 4,
 "nbformat_minor": 5
}
