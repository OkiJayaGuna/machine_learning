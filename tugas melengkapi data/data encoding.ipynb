{
 "cells": [
  {
   "cell_type": "code",
   "execution_count": 1,
   "id": "de8827e6-8f17-4329-9ff9-35c33030a099",
   "metadata": {},
   "outputs": [],
   "source": [
    "import pandas as pd"
   ]
  },
  {
   "cell_type": "code",
   "execution_count": 8,
   "id": "983f7be3-4ca4-425f-8744-b9d9db5abc27",
   "metadata": {},
   "outputs": [],
   "source": [
    "from sklearn.preprocessing import MinMaxScaler\n",
    "from sklearn.preprocessing import StandardScaler\n",
    "from sklearn.preprocessing import LabelEncoder"
   ]
  },
  {
   "cell_type": "code",
   "execution_count": 9,
   "id": "baeb766f-32de-4801-a472-3c47c712a484",
   "metadata": {},
   "outputs": [],
   "source": [
    "data = pd.read_csv('C:\\\\Users\\\\ITEL\\\\Documents\\\\XL\\\\data_random.csv', sep=';')"
   ]
  },
  {
   "cell_type": "code",
   "execution_count": 10,
   "id": "6bb26b09-1b1b-4076-b513-65f885b3faf8",
   "metadata": {},
   "outputs": [
    {
     "name": "stdout",
     "output_type": "stream",
     "text": [
      "                Nama  Umur  Kota_Adrianstad  Kota_Alfredtown  \\\n",
      "0    Christopher Lam  48.0            False            False   \n",
      "1                NaN  48.0            False            False   \n",
      "2  Joseph Valdez Jr.  28.0            False            False   \n",
      "3       Pamela Davis  32.0            False            False   \n",
      "4  Kenneth Rodriguez  20.0            False            False   \n",
      "\n",
      "   Kota_Amandaborough  Kota_Amyborough  Kota_Anthonychester  Kota_Brooksbury  \\\n",
      "0               False            False                False            False   \n",
      "1               False            False                False            False   \n",
      "2                True            False                False            False   \n",
      "3               False            False                False            False   \n",
      "4               False            False                False            False   \n",
      "\n",
      "   Kota_Buckleyfort  Kota_Callahanborough  ...  Kota_West Kimberlyberg  \\\n",
      "0             False                 False  ...                   False   \n",
      "1             False                 False  ...                   False   \n",
      "2             False                 False  ...                   False   \n",
      "3             False                 False  ...                   False   \n",
      "4             False                 False  ...                   False   \n",
      "\n",
      "   Kota_West Kimberlyview  Kota_West Matthew  Kota_West Noahfort  \\\n",
      "0                   False              False               False   \n",
      "1                   False              False               False   \n",
      "2                   False              False               False   \n",
      "3                   False              False               False   \n",
      "4                   False              False               False   \n",
      "\n",
      "   Kota_West Peter  Kota_West Rebecca  Kota_West Tommymouth  \\\n",
      "0            False              False                 False   \n",
      "1            False              False                 False   \n",
      "2            False              False                 False   \n",
      "3            False              False                 False   \n",
      "4            False              False                 False   \n",
      "\n",
      "   Kota_West William  Kota_Whitneyview  Kota_Williamsside  \n",
      "0              False             False              False  \n",
      "1              False             False              False  \n",
      "2              False             False              False  \n",
      "3              False             False              False  \n",
      "4              False             False              False  \n",
      "\n",
      "[5 rows x 143 columns]\n"
     ]
    }
   ],
   "source": [
    "# One-Hot Encoding untuk kolom 'Kota'\n",
    "\n",
    "data_encoded = pd.get_dummies(data, columns=['Kota'], drop_first=True)\n",
    "print(data_encoded.head())  # Menampilkan 5 baris pertama data yang sudah di-encode"
   ]
  },
  {
   "cell_type": "code",
   "execution_count": 11,
   "id": "5d2ae0aa-03e8-4e69-9f35-20bb79dbb828",
   "metadata": {},
   "outputs": [
    {
     "name": "stdout",
     "output_type": "stream",
     "text": [
      "              Kota  Kota_encoded\n",
      "0      Port Kelsey            96\n",
      "1  Veronicachester           129\n",
      "2    Amandaborough             3\n",
      "3     Port Jessica            92\n",
      "4              NaN           142\n"
     ]
    }
   ],
   "source": [
    "# Label Encoding untuk Kolom Kategorikal\n",
    "\n",
    "label_encoder = LabelEncoder()\n",
    "data['Kota_encoded'] = label_encoder.fit_transform(data['Kota'])\n",
    "print(data[['Kota', 'Kota_encoded']].head())"
   ]
  },
  {
   "cell_type": "code",
   "execution_count": 13,
   "id": "6c849e0e-df91-473f-8a1a-7c7128ffbae4",
   "metadata": {},
   "outputs": [
    {
     "name": "stdout",
     "output_type": "stream",
     "text": [
      "                Nama  Umur  Kota_encoded  Kota_Adrianstad  Kota_Alfredtown  \\\n",
      "0    Christopher Lam  48.0            96            False            False   \n",
      "1                NaN  48.0           129            False            False   \n",
      "2  Joseph Valdez Jr.  28.0             3            False            False   \n",
      "3       Pamela Davis  32.0            92            False            False   \n",
      "4  Kenneth Rodriguez  20.0           142            False            False   \n",
      "\n",
      "   Kota_Amandaborough  Kota_Amyborough  Kota_Anthonychester  Kota_Brooksbury  \\\n",
      "0               False            False                False            False   \n",
      "1               False            False                False            False   \n",
      "2                True            False                False            False   \n",
      "3               False            False                False            False   \n",
      "4               False            False                False            False   \n",
      "\n",
      "   Kota_Buckleyfort  ...  Kota_West Kimberlyberg  Kota_West Kimberlyview  \\\n",
      "0             False  ...                   False                   False   \n",
      "1             False  ...                   False                   False   \n",
      "2             False  ...                   False                   False   \n",
      "3             False  ...                   False                   False   \n",
      "4             False  ...                   False                   False   \n",
      "\n",
      "   Kota_West Matthew  Kota_West Noahfort  Kota_West Peter  Kota_West Rebecca  \\\n",
      "0              False               False            False              False   \n",
      "1              False               False            False              False   \n",
      "2              False               False            False              False   \n",
      "3              False               False            False              False   \n",
      "4              False               False            False              False   \n",
      "\n",
      "   Kota_West Tommymouth  Kota_West William  Kota_Whitneyview  \\\n",
      "0                 False              False             False   \n",
      "1                 False              False             False   \n",
      "2                 False              False             False   \n",
      "3                 False              False             False   \n",
      "4                 False              False             False   \n",
      "\n",
      "   Kota_Williamsside  \n",
      "0              False  \n",
      "1              False  \n",
      "2              False  \n",
      "3              False  \n",
      "4              False  \n",
      "\n",
      "[5 rows x 144 columns]\n"
     ]
    }
   ],
   "source": [
    "# One-Hot Encoding untuk kolom 'Kota'\n",
    "\n",
    "data_encoded = pd.get_dummies(data, columns=['Kota'], drop_first=True)\n",
    "print(data_encoded.head())  # Menampilkan 5 baris pertama data yang sudah di-encode"
   ]
  },
  {
   "cell_type": "code",
   "execution_count": null,
   "id": "6888eae1-3b14-4221-aae6-1bc5606ad801",
   "metadata": {},
   "outputs": [],
   "source": []
  }
 ],
 "metadata": {
  "kernelspec": {
   "display_name": "Python 3 (ipykernel)",
   "language": "python",
   "name": "python3"
  },
  "language_info": {
   "codemirror_mode": {
    "name": "ipython",
    "version": 3
   },
   "file_extension": ".py",
   "mimetype": "text/x-python",
   "name": "python",
   "nbconvert_exporter": "python",
   "pygments_lexer": "ipython3",
   "version": "3.10.0"
  }
 },
 "nbformat": 4,
 "nbformat_minor": 5
}
